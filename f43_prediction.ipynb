{
  "nbformat": 4,
  "nbformat_minor": 0,
  "metadata": {
    "colab": {
      "name": "F43_PREDICTION.ipynb",
      "provenance": [],
      "collapsed_sections": []
    },
    "kernelspec": {
      "name": "python3",
      "display_name": "Python 3"
    },
    "language_info": {
      "name": "python"
    }
  },
  "cells": [
    {
      "cell_type": "code",
      "metadata": {
        "id": "WSL7-jnbbPSc"
      },
      "source": [
        "import numpy as np\n",
        "import pandas as pd\n",
        "import matplotlib.pyplot as plt\n",
        "from sklearn.metrics import roc_curve\n",
        "import sklearn.metrics\n",
        "from datetime import datetime\n",
        "#import datetime\n",
        "import math\n",
        "from random import randrange\n",
        "from tensorflow.keras import layers\n",
        "import tensorflow as tf\n",
        "from keras.utils import to_categorical\n",
        "from sklearn.model_selection import train_test_split\n",
        "from sklearn.metrics import precision_recall_curve\n",
        "from sklearn.metrics import f1_score\n",
        "from sklearn.metrics import auc\n",
        "from matplotlib import pyplot\n",
        "from imblearn.over_sampling import SMOTE\n",
        "from keras.layers import Flatten,ELU,LSTM,Bidirectional,Dense,TimeDistributed,Flatten,Dropout,GRU\n",
        "from sklearn.model_selection import KFold"
      ],
      "execution_count": 2,
      "outputs": []
    },
    {
      "cell_type": "code",
      "metadata": {
        "id": "dmtOulHgbRJA"
      },
      "source": [
        "q1=pd.read_csv('/content/drive/MyDrive/Data/q1.csv')\n",
        "q2=pd.read_csv('/content/drive/MyDrive/Data/q2.csv')\n",
        "q3=pd.read_csv('/content/drive/MyDrive/Data/q3.csv')"
      ],
      "execution_count": 3,
      "outputs": []
    },
    {
      "cell_type": "markdown",
      "metadata": {
        "id": "XZex2Xzh1eKm"
      },
      "source": [
        ""
      ]
    },
    {
      "cell_type": "code",
      "metadata": {
        "colab": {
          "base_uri": "https://localhost:8080/",
          "height": 206
        },
        "id": "M0J83OstjRQl",
        "outputId": "5869834b-d022-46a6-cdf7-5e82f655d643"
      },
      "source": [
        "diagnosis=pd.concat([q1,q2,q3],axis=0)\n",
        "diagnosis.head(5)"
      ],
      "execution_count": 5,
      "outputs": [
        {
          "output_type": "execute_result",
          "data": {
            "text/html": [
              "<div>\n",
              "<style scoped>\n",
              "    .dataframe tbody tr th:only-of-type {\n",
              "        vertical-align: middle;\n",
              "    }\n",
              "\n",
              "    .dataframe tbody tr th {\n",
              "        vertical-align: top;\n",
              "    }\n",
              "\n",
              "    .dataframe thead th {\n",
              "        text-align: right;\n",
              "    }\n",
              "</style>\n",
              "<table border=\"1\" class=\"dataframe\">\n",
              "  <thead>\n",
              "    <tr style=\"text-align: right;\">\n",
              "      <th></th>\n",
              "      <th>Patient Number;Billing Year;Billing Month;Diagnosis;Birth Year;Sex</th>\n",
              "    </tr>\n",
              "  </thead>\n",
              "  <tbody>\n",
              "    <tr>\n",
              "      <th>0</th>\n",
              "      <td>10000784;2015;6;H10.8;1999;F</td>\n",
              "    </tr>\n",
              "    <tr>\n",
              "      <th>1</th>\n",
              "      <td>10000784;2015;6;K02.1;1999;F</td>\n",
              "    </tr>\n",
              "    <tr>\n",
              "      <th>2</th>\n",
              "      <td>10000784;2015;6;Z01.2;1999;F</td>\n",
              "    </tr>\n",
              "    <tr>\n",
              "      <th>3</th>\n",
              "      <td>10000784;2015;7;L70.0;1999;F</td>\n",
              "    </tr>\n",
              "    <tr>\n",
              "      <th>4</th>\n",
              "      <td>10000784;2015;8;K10.2;1999;F</td>\n",
              "    </tr>\n",
              "  </tbody>\n",
              "</table>\n",
              "</div>"
            ],
            "text/plain": [
              "  Patient Number;Billing Year;Billing Month;Diagnosis;Birth Year;Sex\n",
              "0                       10000784;2015;6;H10.8;1999;F                \n",
              "1                       10000784;2015;6;K02.1;1999;F                \n",
              "2                       10000784;2015;6;Z01.2;1999;F                \n",
              "3                       10000784;2015;7;L70.0;1999;F                \n",
              "4                       10000784;2015;8;K10.2;1999;F                "
            ]
          },
          "metadata": {
            "tags": []
          },
          "execution_count": 5
        }
      ]
    },
    {
      "cell_type": "code",
      "metadata": {
        "id": "dn1u848ahHJ_"
      },
      "source": [
        "def createData(index,df):\n",
        "  #result=[]\n",
        "  patient_diagnosis={}\n",
        "  icd_token={}\n",
        "  index=1\n",
        "  for rw in range(len(df)):\n",
        "    #if(df.iloc[rw].values.tolist()[0].split(';')[0]):\n",
        "    id=df.iloc[rw].values.tolist()[0].split(';')[0]\n",
        "    #print(df.iloc[rw])\n",
        "    if(len(df.iloc[rw].values.tolist()[0].split(';'))>3):\n",
        "      icd=df.iloc[rw].values.tolist()[0].split(';')[3]\n",
        "      if(id in patient_diagnosis)==False:\n",
        "        patient_diagnosis[id]=[]\n",
        "      if (icd in icd_token)==False and icd!='F43':\n",
        "        icd_token[icd]=index\n",
        "        index=index+1\n",
        "      else:\n",
        "        patient_diagnosis[id].append(icd)\n",
        "      #result.append(df.iloc[rw].values.tolist()[0].split(';')[0])\n",
        "  return patient_diagnosis,icd_token\n",
        "  \n",
        "def cerateInputOutput(dico):\n",
        "  output=[]\n",
        "  for elm in dico:\n",
        "    if 'F43' in dico[elm]:\n",
        "      output.append(1)\n",
        "      for k in range(len(dico[elm])):\n",
        "        if('F43' in dico[elm]):\n",
        "          dico[elm].remove('F43')\n",
        "    else:\n",
        "      output.append(0)\n",
        "  return output,dico"
      ],
      "execution_count": 6,
      "outputs": []
    },
    {
      "cell_type": "code",
      "metadata": {
        "colab": {
          "base_uri": "https://localhost:8080/"
        },
        "id": "MV_E1XxpfJoY",
        "outputId": "203c4938-1040-4e83-fe7e-e920304b53b4"
      },
      "source": [
        "data,icd_token=createData(0,diagnosis)\n",
        "y,dico=cerateInputOutput(data)\n",
        "pd.DataFrame(data=y).value_counts()#.nlargest(10).plot(kind='bar')"
      ],
      "execution_count": 7,
      "outputs": [
        {
          "output_type": "execute_result",
          "data": {
            "text/plain": [
              "0    90929\n",
              "1      519\n",
              "dtype: int64"
            ]
          },
          "metadata": {
            "tags": []
          },
          "execution_count": 7
        }
      ]
    },
    {
      "cell_type": "markdown",
      "metadata": {
        "id": "GJWVC7v013gJ"
      },
      "source": [
        "Checked if there is an F43 diagnostic in the input data"
      ]
    },
    {
      "cell_type": "code",
      "metadata": {
        "id": "OyLipjYMsb0v"
      },
      "source": [
        "for k in data:\n",
        "  if('F43' in data[k]):\n",
        "    print('oups')"
      ],
      "execution_count": 9,
      "outputs": []
    },
    {
      "cell_type": "markdown",
      "metadata": {
        "id": "oqH_X9RS2F-c"
      },
      "source": [
        "Maximum input length"
      ]
    },
    {
      "cell_type": "code",
      "metadata": {
        "colab": {
          "base_uri": "https://localhost:8080/"
        },
        "id": "mDCr0wx_trgq",
        "outputId": "cc9d6e11-3758-424a-ac45-3d762c068e81"
      },
      "source": [
        "len_max=0\n",
        "sizes=[]\n",
        "for i in data:\n",
        "  sizes.append(len(data[i]))\n",
        "  if len(data[i])>len_max:\n",
        "    len_max=len(data[i])\n",
        "print('The maximum length is:',len_max)"
      ],
      "execution_count": 10,
      "outputs": [
        {
          "output_type": "stream",
          "text": [
            "The maximum length is: 279\n"
          ],
          "name": "stdout"
        }
      ]
    },
    {
      "cell_type": "markdown",
      "metadata": {
        "id": "aDH8dbI62Wcy"
      },
      "source": [
        "Length distribution"
      ]
    },
    {
      "cell_type": "code",
      "metadata": {
        "colab": {
          "base_uri": "https://localhost:8080/",
          "height": 311
        },
        "id": "Odl5rgMZwflS",
        "outputId": "794a50da-a99d-4ef1-a8ec-12af8c098095"
      },
      "source": [
        "pd.DataFrame(data=sizes).value_counts().nlargest(10).plot(kind='bar')"
      ],
      "execution_count": 11,
      "outputs": [
        {
          "output_type": "execute_result",
          "data": {
            "text/plain": [
              "<matplotlib.axes._subplots.AxesSubplot at 0x7f52786f4c50>"
            ]
          },
          "metadata": {
            "tags": []
          },
          "execution_count": 11
        },
        {
          "output_type": "display_data",
          "data": {
            "image/png": "[encoded data removed]",
            "text/plain": [
              "<Figure size 432x288 with 1 Axes>"
            ]
          },
          "metadata": {
            "tags": [],
            "needs_background": "light"
          }
        }
      ]
    },
    {
      "cell_type": "code",
      "metadata": {
        "id": "wv6TanLN-KvS"
      },
      "source": [
        "X=[]\n",
        "for i in data:\n",
        "  X.append(data[i])"
      ],
      "execution_count": 12,
      "outputs": []
    },
    {
      "cell_type": "markdown",
      "metadata": {
        "id": "Q_WU3Lyc4wLc"
      },
      "source": [
        "Encoding of each diagnosis"
      ]
    },
    {
      "cell_type": "code",
      "metadata": {
        "id": "yTwMqDgrA1qo"
      },
      "source": [
        "token_X=[]\n",
        "for seq in X:\n",
        "  tempo=[]\n",
        "  for elm in seq:\n",
        "    tempo.append(icd_token[elm])\n",
        "  token_X.append(tempo)"
      ],
      "execution_count": 13,
      "outputs": []
    },
    {
      "cell_type": "markdown",
      "metadata": {
        "id": "8rIrsr5a42kB"
      },
      "source": [
        "Padding so that all imputs have a size of 279."
      ]
    },
    {
      "cell_type": "code",
      "metadata": {
        "id": "6BtejqnL-bc0"
      },
      "source": [
        "padded_X = tf.keras.preprocessing.sequence.pad_sequences(token_X, padding=\"post\")"
      ],
      "execution_count": 14,
      "outputs": []
    },
    {
      "cell_type": "markdown",
      "metadata": {
        "id": "uliFFyB_Rvnq"
      },
      "source": [
        "#Smote"
      ]
    },
    {
      "cell_type": "code",
      "metadata": {
        "colab": {
          "base_uri": "https://localhost:8080/"
        },
        "id": "1G7RtoFBBxtW",
        "outputId": "345675c2-516a-4dc3-eedc-abd5278d1678"
      },
      "source": [
        "smote=SMOTE(sampling_strategy=\"minority\")\n",
        "X_sm,y_sm=smote.fit_sample(padded_X,y)"
      ],
      "execution_count": 15,
      "outputs": [
        {
          "output_type": "stream",
          "text": [
            "/usr/local/lib/python3.7/dist-packages/sklearn/utils/deprecation.py:87: FutureWarning: Function safe_indexing is deprecated; safe_indexing is deprecated in version 0.22 and will be removed in version 0.24.\n",
            "  warnings.warn(msg, category=FutureWarning)\n"
          ],
          "name": "stderr"
        }
      ]
    },
    {
      "cell_type": "code",
      "metadata": {
        "colab": {
          "base_uri": "https://localhost:8080/"
        },
        "id": "jmrznSKuCPw2",
        "outputId": "ae18201d-457c-4c89-fd1c-5ca0736e6ee8"
      },
      "source": [
        "pd.DataFrame(data=y_sm).value_counts()"
      ],
      "execution_count": 16,
      "outputs": [
        {
          "output_type": "execute_result",
          "data": {
            "text/plain": [
              "1    90929\n",
              "0    90929\n",
              "dtype: int64"
            ]
          },
          "metadata": {
            "tags": []
          },
          "execution_count": 16
        }
      ]
    },
    {
      "cell_type": "code",
      "metadata": {
        "id": "2xQAdgptC213"
      },
      "source": [
        "X_=X_sm\n",
        "y_=y_sm"
      ],
      "execution_count": 17,
      "outputs": []
    },
    {
      "cell_type": "markdown",
      "metadata": {
        "id": "8ZR6Y44LJE4i"
      },
      "source": [
        "#Undersampling"
      ]
    },
    {
      "cell_type": "code",
      "metadata": {
        "id": "yhTms1VoJIkd"
      },
      "source": [
        "#df_y=pd.DataFrame(data=y)\n",
        "#df_y=df_y.rename(columns = {0:'label'}) \n",
        "#global_data=pd.concat([pd.DataFrame(data=padded_X),df_y],axis=1)"
      ],
      "execution_count": 18,
      "outputs": []
    },
    {
      "cell_type": "code",
      "metadata": {
        "id": "FvqdHj7LJmby"
      },
      "source": [
        "#global_data.head()"
      ],
      "execution_count": 19,
      "outputs": []
    },
    {
      "cell_type": "code",
      "metadata": {
        "id": "vIbDM0DrKPO3"
      },
      "source": [
        "#df_class0=global_data.loc[global_data['label']==0,:]\n",
        "#df_class1=global_data.loc[global_data['label']==1,:]"
      ],
      "execution_count": 16,
      "outputs": []
    },
    {
      "cell_type": "code",
      "metadata": {
        "id": "4KENHuL7Lqd_"
      },
      "source": [
        "#df_class0_undersampling=df_class0.sample(len(df_class1))\n",
        "#len(df_class0_undersampling)"
      ],
      "execution_count": 21,
      "outputs": []
    },
    {
      "cell_type": "code",
      "metadata": {
        "id": "VhGV1YP9MEZM"
      },
      "source": [
        "#balanced_data=pd.concat([df_class0_undersampling,df_class1],axis=0)\n",
        "#balanced_data['label'].value_counts()"
      ],
      "execution_count": 20,
      "outputs": []
    },
    {
      "cell_type": "code",
      "metadata": {
        "id": "nAid4DRvM8AF"
      },
      "source": [
        "#y_=balanced_data['label'].values\n",
        "#del balanced_data['label'] \n",
        "#X_=balanced_data.values"
      ],
      "execution_count": 19,
      "outputs": []
    },
    {
      "cell_type": "code",
      "metadata": {
        "id": "ofoqsjsOOoi7"
      },
      "source": [
        "#X_.shape"
      ],
      "execution_count": 22,
      "outputs": []
    },
    {
      "cell_type": "markdown",
      "metadata": {
        "id": "Y5NOCBqWRmuZ"
      },
      "source": [
        "#Model"
      ]
    },
    {
      "cell_type": "markdown",
      "metadata": {
        "id": "1vATx_HC5pg5"
      },
      "source": [
        "Parameters of k-fold cross validation\n"
      ]
    },
    {
      "cell_type": "code",
      "metadata": {
        "id": "DzlRd8z9CmCa"
      },
      "source": [
        "kfold = KFold(n_splits=2, shuffle=True)"
      ],
      "execution_count": 24,
      "outputs": []
    },
    {
      "cell_type": "code",
      "metadata": {
        "colab": {
          "base_uri": "https://localhost:8080/"
        },
        "id": "buhIX0kICvse",
        "outputId": "6b998a61-8e1c-4ac6-a005-d64615b5ceff"
      },
      "source": [
        "fold_no = 1\n",
        "aucs=[]\n",
        "aucpr=[]\n",
        "for train, test in kfold.split(X_,y_):\n",
        "\n",
        "  with tf.device('/GPU:0'):\n",
        "    model = tf.keras.Sequential([\n",
        "        #tf.keras.layers.Dense(10, input_dim=X_.shape[1],activation='relu'),\n",
        "        tf.keras.layers.Embedding(len(icd_token)+1, 100, input_length=X_.shape[1],mask_zero=True),\n",
        "        #tf.keras.layers.GRU(100, return_sequences=True),\n",
        "        tf.keras.layers.Flatten(),\n",
        "        #tf.keras.layers.Dense(50,activation='relu'),\n",
        "        # tf.keras.layers.LSTM(20),\n",
        "        tf.keras.layers.Dense(1,activation='sigmoid')              \n",
        "    ])\n",
        "\n",
        "    model.compile(\n",
        "        loss=\"binary_crossentropy\",\n",
        "        optimizer=\"adam\",\n",
        "        metrics=[\"accuracy\"],\n",
        "    )\n",
        "\n",
        "\n",
        "    model.fit(\n",
        "        X_[train], \n",
        "        y_[train], \n",
        "        batch_size=10, \n",
        "        epochs=3,\n",
        "        verbose=0\n",
        "    )\n",
        "  loss_test, accuracy_test=model.evaluate(X_[test],y_[test], verbose=0)\n",
        "\n",
        "  y_probas = model.predict(X_[test])\n",
        "  lr_precision, lr_recall, _ = precision_recall_curve(y_[test], y_probas.reshape(-1))\n",
        "  auprc_ = sklearn.metrics.average_precision_score(y_[test], y_probas)\n",
        "\n",
        "  aucpr.append(auprc_)\n",
        "\n",
        "  m = tf.keras.metrics.AUC()\n",
        "  m.update_state(y_[test], y_probas.reshape(-1))\n",
        "  aucs.append(m.result().numpy())\n",
        "\n",
        "  \n",
        "  print(fold_no,'step')\n",
        "  print('Accuracy:',accuracy_test)\n",
        "  print('AUC',m.result().numpy())\n",
        "  print('AUPRC', auprc_)\n",
        "  print('**************************')\n",
        "\n",
        "  \n",
        "  yhat = model.predict_proba(X_[test])\n",
        "  model_probs = yhat\n",
        "  precision, recall, _ = precision_recall_curve(y_[test], model_probs)\n",
        "  auc_score = sklearn.metrics.auc(recall, precision)\n",
        "  #print('Logistic PR AUC: %.3f' % auc_score)\n",
        "\n",
        "  fold_no = fold_no + 1"
      ],
      "execution_count": 26,
      "outputs": [
        {
          "output_type": "stream",
          "text": [
            "1 step\n",
            "Accuracy: 0.9706474542617798\n",
            "AUC 0.99302906\n",
            "AUPRC 0.9949149979507845\n",
            "**************************\n"
          ],
          "name": "stdout"
        },
        {
          "output_type": "stream",
          "text": [
            "/usr/local/lib/python3.7/dist-packages/tensorflow/python/keras/engine/sequential.py:425: UserWarning: `model.predict_proba()` is deprecated and will be removed after 2021-01-01. Please use `model.predict()` instead.\n",
            "  warnings.warn('`model.predict_proba()` is deprecated and '\n"
          ],
          "name": "stderr"
        },
        {
          "output_type": "stream",
          "text": [
            "2 step\n",
            "Accuracy: 0.9725280404090881\n",
            "AUC 0.99313444\n",
            "AUPRC 0.995244320201568\n",
            "**************************\n"
          ],
          "name": "stdout"
        }
      ]
    },
    {
      "cell_type": "code",
      "metadata": {
        "colab": {
          "base_uri": "https://localhost:8080/"
        },
        "id": "HJSyarbj71Pq",
        "outputId": "001bc700-2ed4-4ba2-d468-57eefb1883f3"
      },
      "source": [
        "print(\"AUC: Mean {0} Standar deviation {1}\".format(np.mean(np.array(aucs)),np.std(np.array(aucs))))"
      ],
      "execution_count": 39,
      "outputs": [
        {
          "output_type": "stream",
          "text": [
            "AUC: Mean 0.9930817484855652 Standar deviation 5.269050598144531e-05\n"
          ],
          "name": "stdout"
        }
      ]
    },
    {
      "cell_type": "code",
      "metadata": {
        "colab": {
          "base_uri": "https://localhost:8080/"
        },
        "id": "OF91BUpj8gXS",
        "outputId": "58ed79d6-13ff-4ce6-a043-941b637535fc"
      },
      "source": [
        "print(\"AUCPRC: Mean {0} Standar deviation {1}\".format(np.mean(np.array(aucpr)),np.std(np.array(aucpr))))"
      ],
      "execution_count": 42,
      "outputs": [
        {
          "output_type": "stream",
          "text": [
            "AUCPRC: Mean 0.9950796590761762 Standar deviation 0.0001646611253917074\n"
          ],
          "name": "stdout"
        }
      ]
    }
  ]
}